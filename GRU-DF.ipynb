{
 "cells": [
  {
   "cell_type": "code",
   "execution_count": 10,
   "metadata": {},
   "outputs": [
    {
     "name": "stdout",
     "output_type": "stream",
     "text": [
      "The autoreload extension is already loaded. To reload it, use:\n",
      "  %reload_ext autoreload\n"
     ]
    }
   ],
   "source": [
    "%load_ext autoreload\n",
    "%autoreload 2"
   ]
  },
  {
   "cell_type": "code",
   "execution_count": 11,
   "metadata": {
    "id": "5J04fUqIvFSS"
   },
   "outputs": [
    {
     "name": "stderr",
     "output_type": "stream",
     "text": [
      "/home/ty/Gatech/Fa2023/Deep_Learning_Final_Project/grud.py:117: RuntimeWarning: Mean of empty slice\n",
      "  empirical_mean = np.nanmean(X, axis=1)\n",
      "/home/ty/Gatech/Fa2023/Deep_Learning_Final_Project/grudf.py:123: RuntimeWarning: Mean of empty slice\n",
      "  empirical_mean_1 = np.nanmean(X, axis=1)\n",
      "  0%|          | 1/1000 [01:03<17:31:47, 63.17s/it]"
     ]
    },
    {
     "name": "stdout",
     "output_type": "stream",
     "text": [
      "Epoch 1/1000, Training Loss: 0.0662, Validation Loss: 0.0605\n"
     ]
    },
    {
     "name": "stderr",
     "output_type": "stream",
     "text": [
      "  0%|          | 2/1000 [02:07<17:43:27, 63.94s/it]"
     ]
    },
    {
     "name": "stdout",
     "output_type": "stream",
     "text": [
      "Epoch 2/1000, Training Loss: 0.0576, Validation Loss: 0.0549\n"
     ]
    }
   ],
   "source": [
    "import torch\n",
    "import torch.nn as nn\n",
    "import torch.optim as optim\n",
    "from torch.utils.data import DataLoader, TensorDataset\n",
    "from sklearn.model_selection import StratifiedShuffleSplit\n",
    "import numpy as np\n",
    "from tqdm import tqdm\n",
    "from datasets import GRUDFdataset\n",
    "from grudf import GRU_DF, preprocess_dataset\n",
    "from grudf_Loss import WeightedBCELoss\n",
    "from accuracies import accuracies\n",
    "\n",
    "torch.manual_seed(0)\n",
    "device = torch.device(\"cuda\" if torch.cuda.is_available() else \"cpu\")\n",
    "\n",
    "X = np.load('data_X.npy')\n",
    "y = np.load('data_y.npy')\n",
    "\n",
    "sss = StratifiedShuffleSplit(n_splits=1, test_size=0.2, random_state=0)\n",
    "train_index, test_index = next(sss.split(X, y))\n",
    "val_index, test_index = next(StratifiedShuffleSplit(n_splits=1, test_size=0.5, random_state=0).split(X[test_index], y[test_index]))\n",
    "\n",
    "X, delta, delta_future, M, last_observation, next_observation, empirical_mean = preprocess_dataset(X)\n",
    "\n",
    "train_dataset = GRUDFdataset(X[train_index], delta[train_index], delta_future[train_index],\n",
    "                             M[train_index], last_observation[train_index], next_observation[train_index], empirical_mean[train_index], y[train_index])\n",
    "val_dataset = GRUDFdataset(X[val_index], delta[val_index], delta_future[val_index], \n",
    "                           M[val_index], last_observation[val_index], next_observation[val_index], empirical_mean[val_index], y[val_index])\n",
    "test_dataset = GRUDFdataset(X[test_index], delta[test_index], delta_future[test_index], \n",
    "                            M[test_index], last_observation[test_index], next_observation[test_index], empirical_mean[test_index], y[test_index])\n",
    "\n",
    "batch_size = 64\n",
    "train_loader = DataLoader(train_dataset, batch_size=batch_size, shuffle=True)\n",
    "val_loader = DataLoader(val_dataset, batch_size=batch_size, shuffle=False)\n",
    "test_loader = DataLoader(test_dataset, batch_size=batch_size, shuffle=False)\n",
    "\n",
    "input_size = 5\n",
    "hidden_size = 16\n",
    "output_size = 1\n",
    "lr_rate = 0.001\n",
    "\n",
    "model = GRU_DF(input_size=input_size, hidden_size=hidden_size)\n",
    "model.to(device)\n",
    "\n",
    "w_p = torch.tensor(y[train_index].sum() / len(y[train_index]), dtype=torch.float32)\n",
    "criterion = WeightedBCELoss(w_p)\n",
    "optimizer = torch.optim.Adam(model.parameters(), lr=lr_rate)\n",
    "scheduler = optim.lr_scheduler.StepLR(optimizer, step_size=50, gamma=0.5)\n",
    "\n",
    "early_stopping_patience = 20\n",
    "early_stopping_counter = 0\n",
    "best_val_loss = float('inf')\n",
    "model_path = 'best_model_GRUDF.pth'\n",
    "\n",
    "num_epochs = 1000\n",
    "for epoch in tqdm(range(num_epochs)):\n",
    "    model.train()\n",
    "    running_loss = 0.0\n",
    "    for batch in train_loader:\n",
    "        new_batch = []\n",
    "        for item in batch:\n",
    "            new_batch.append(item.to(device))\n",
    "        input_batch = tuple(new_batch[:-1])\n",
    "        y_batch = new_batch[-1]\n",
    "        M_batch = new_batch[3]\n",
    "        predictions = model(*input_batch).squeeze()\n",
    "        loss = criterion(predictions, y_batch, M_batch)\n",
    "        optimizer.zero_grad()\n",
    "        loss.backward()\n",
    "        optimizer.step()\n",
    "\n",
    "        running_loss += loss.item() * input_batch[0].size(0)\n",
    "\n",
    "    model.eval()\n",
    "    val_loss = 0.0\n",
    "    with torch.no_grad():\n",
    "        for batch in val_loader:\n",
    "            new_batch = []\n",
    "            for item in batch:\n",
    "                new_batch.append(item.to(device))\n",
    "            input_batch = tuple(new_batch[:-1])\n",
    "            y_batch = new_batch[-1]\n",
    "            M_batch = new_batch[3]\n",
    "            predictions = model(*input_batch).squeeze()\n",
    "            loss = criterion(predictions, y_batch, M_batch)\n",
    "            val_loss += loss.item() * input_batch[0].size(0)\n",
    "\n",
    "    train_loss = running_loss / len(train_loader.dataset)\n",
    "    val_loss = val_loss / len(val_loader.dataset)\n",
    "\n",
    "    print(f'Epoch {epoch+1}/{num_epochs}, Training Loss: {train_loss:.4f}, Validation Loss: {val_loss:.4f}')\n",
    "\n",
    "    scheduler.step()\n",
    "\n",
    "    if epoch % 10 == 0:\n",
    "        torch.save(model.state_dict(), f'best_model_GRUDF_{epoch}.pth')\n",
    "\n",
    "    if val_loss < best_val_loss:\n",
    "        best_val_loss = val_loss\n",
    "        early_stopping_counter = 0\n",
    "        torch.save(model.state_dict(), model_path)\n",
    "    else:\n",
    "        early_stopping_counter += 1\n",
    "        if early_stopping_counter >= early_stopping_patience:\n",
    "            print(\"Early stopping triggered\")\n",
    "            break\n",
    "\n",
    "model.load_state_dict(torch.load(model_path))\n",
    "\n",
    "model.eval()\n",
    "test_losses = []\n",
    "test_labels = []\n",
    "test_predictions = []\n",
    "\n",
    "with torch.no_grad():\n",
    "    for batch in val_loader:\n",
    "        new_batch = []\n",
    "        for item in batch:\n",
    "            new_batch.append(item.to(device))\n",
    "        input_batch = tuple(new_batch[:-1])\n",
    "        y_batch = new_batch[-1]\n",
    "        M_batch = new_batch[3]\n",
    "        outputs = model(*input_batch).squeeze()\n",
    "        loss = criterion(outputs, y_batch, M_batch)\n",
    "        test_losses.append(loss.item())\n",
    "        test_predictions.extend(outputs.tolist())\n",
    "        test_labels.extend(y_batch.tolist())\n",
    "\n",
    "average_test_loss = sum(test_losses) / len(test_losses)\n",
    "print(f'Average test loss: {average_test_loss:.4f}')\n",
    "\n",
    "test_predictions = np.array(test_predictions)\n",
    "test_labels = np.array(test_labels)\n",
    "\n",
    "accuracies(test_labels, test_predictions)"
   ]
  },
  {
   "cell_type": "code",
   "execution_count": 13,
   "metadata": {
    "id": "fqRIy9dBOplT"
   },
   "outputs": [
    {
     "name": "stdout",
     "output_type": "stream",
     "text": [
      "Average test loss: 0.3622\n",
      "AUC score: 0.8319\n",
      "Accuracy: 0.7537\n",
      "Sensitivity: 0.7987\n",
      "Specificity: 0.7438\n"
     ]
    }
   ],
   "source": [
    "model.load_state_dict(torch.load(model_path))\n",
    "\n",
    "model.eval()\n",
    "test_losses = []\n",
    "test_labels = []\n",
    "test_predictions = []"
   ]
  }
 ],
 "metadata": {
  "accelerator": "GPU",
  "colab": {
   "gpuType": "T4",
   "provenance": []
  },
  "kernelspec": {
   "display_name": "Python 3 (ipykernel)",
   "language": "python",
   "name": "python3"
  },
  "language_info": {
   "codemirror_mode": {
    "name": "ipython",
    "version": 3
   },
   "file_extension": ".py",
   "mimetype": "text/x-python",
   "name": "python",
   "nbconvert_exporter": "python",
   "pygments_lexer": "ipython3",
   "version": "3.7.10"
  }
 },
 "nbformat": 4,
 "nbformat_minor": 1
}
